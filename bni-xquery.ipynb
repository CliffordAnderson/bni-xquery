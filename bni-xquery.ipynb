{
 "cells": [
  {
   "cell_type": "markdown",
   "metadata": {},
   "source": [
    "# BNI.XQ\n",
    "\n",
    "simple analysis of the open catalogue of legal deposit of italian publications ([BNI](http://bni.bncf.firenze.sbn.it/bniweb/menu.jsp))"
   ]
  },
  {
   "cell_type": "markdown",
   "metadata": {},
   "source": [
    "### get the data (2015 and 2016 monographs)\n",
    "\n",
    "download xml (unimarc xml)\n",
    "\n",
    "\n",
    "    ~ curl -OJLs \"http://bni.bncf.firenze.sbn.it/bniweb/scaricaxml.jsp?mese=01&anno=2015&serie=Monografie\"\n",
    "    ~ curl -OJLs \"http://bni.bncf.firenze.sbn.it/bniweb/scaricaxml.jsp?mese=02&anno=2015&serie=Monografie\"\n",
    "    ~ curl -OJLs \"http://bni.bncf.firenze.sbn.it/bniweb/scaricaxml.jsp?mese=03&anno=2015&serie=Monografie\"\n",
    "    ~ curl -OJLs \"http://bni.bncf.firenze.sbn.it/bniweb/scaricaxml.jsp?mese=01&anno=2016&serie=Monografie\"\n",
    "\n",
    "    ~ sha1sum Monografie*.xml\n",
    "    7c226c88daefd7b145ebb0bc01d621ba9f3ea9b3  Monografie201501.xml\n",
    "    204134fef0f5275f466feb9c6a018c794fadd07b  Monografie201502.xml\n",
    "    bdbcab246290b9d2e0db3b7279bd32ea20ea6ef3  Monografie201503.xml\n",
    "    c8e56442bc5c8a1e7fb9e31731108ba586993c17  Monografie201601.xml\n",
    "    \n",
    "### install basex http://basex.org\n",
    "\n",
    "deb      `~ apt-get install basex`  \n",
    "macos    `~ brew install basex`\n",
    "\n",
    "\n",
    "### create the database\n",
    "\n",
    "    ~ basex -c \"create database bni\"\n",
    "    ~ basex -i bni -c \"add Monografie201501.xml; add Monografie201502.xml;\\\n",
    "                       add Monografie201503.xml; Monografie201601.xml\"\n",
    "\n",
    "### start the database\n",
    "    ~ basexserver\n",
    "    \n",
    "### install jupyter and basexclient.py\n",
    "\n",
    "    ~ pip3 install jupyter\n",
    "    ~ pip3 install basexclient\n"
   ]
  },
  {
   "cell_type": "code",
   "execution_count": 2,
   "metadata": {
    "collapsed": true
   },
   "outputs": [],
   "source": [
    "from BaseXClient import BaseXClient"
   ]
  },
  {
   "cell_type": "code",
   "execution_count": 3,
   "metadata": {
    "collapsed": false
   },
   "outputs": [],
   "source": [
    "session = BaseXClient.Session('127.0.0.1', 1984, 'admin', 'admin')"
   ]
  },
  {
   "cell_type": "markdown",
   "metadata": {},
   "source": [
    "paths to extract and count. here a quick (but uncomplete) [reference](http://unimarc-it.wikidot.com/) of unimarc fields. here the [unimarc xml schema](http://www.bncf.firenze.sbn.it/progetti/unimarc/slim/documentation/unimarcslim.html)"
   ]
  },
  {
   "cell_type": "code",
   "execution_count": 4,
   "metadata": {
    "collapsed": false
   },
   "outputs": [],
   "source": [
    "publisher = '//rec/df[@t=\"210\"]/sf[@c=\"c\"]'\n",
    "publisher_city = '//rec/df[@t=\"210\"]/sf[@c=\"a\"]'\n",
    "subject = '//rec/df[@t=\"606\"]/sf[@c=\"a\"]'"
   ]
  },
  {
   "cell_type": "code",
   "execution_count": 9,
   "metadata": {
    "collapsed": true
   },
   "outputs": [],
   "source": [
    "def count(path, limit):\n",
    "    q = '''let $db := db:open(\"bni\")\n",
    "    let $result :=\n",
    "        for $publisher in distinct-values($db{0})\n",
    "              let $count :=  count(index-of($db{0}, $publisher))\n",
    "              order by $count descending\n",
    "        return concat($publisher, \", \", $count)\n",
    "    for $limited at $lim in subsequence($result, 1, {1})          \n",
    "        return $limited'''.format(path, limit)\n",
    "    query = session.query(q)\n",
    "    for _, item in query.iter():\n",
    "        print(item)"
   ]
  },
  {
   "cell_type": "markdown",
   "metadata": {},
   "source": [
    "### top 10 publishers"
   ]
  },
  {
   "cell_type": "code",
   "execution_count": 10,
   "metadata": {
    "collapsed": false
   },
   "outputs": [
    {
     "name": "stdout",
     "output_type": "stream",
     "text": [
      "Angeli, 324\n",
      "Giuffrè, 213\n",
      ", 188\n",
      "Il mulino, 149\n",
      "Mondadori, 113\n",
      "Skira, 110\n",
      "Einaudi, 104\n",
      "Carocci, 104\n",
      "Rubbettino, 100\n",
      "Marsilio, 84\n"
     ]
    }
   ],
   "source": [
    "count(publisher, 10)"
   ]
  },
  {
   "cell_type": "markdown",
   "metadata": {},
   "source": [
    "### top 10 location of publishers"
   ]
  },
  {
   "cell_type": "code",
   "execution_count": 11,
   "metadata": {
    "collapsed": false
   },
   "outputs": [
    {
     "name": "stdout",
     "output_type": "stream",
     "text": [
      "Milano, 1482\n",
      "Roma, 690\n",
      "Torino, 375\n",
      "Bologna, 264\n",
      "Firenze, 262\n",
      "Napoli, 249\n",
      "[Milano], 168\n",
      "Pisa, 129\n",
      "Venezia, 127\n",
      "Soveria Mannelli, 103\n"
     ]
    }
   ],
   "source": [
    "count(publisher_city, 10)"
   ]
  },
  {
   "cell_type": "markdown",
   "metadata": {},
   "source": [
    "### top 30 subjects"
   ]
  },
  {
   "cell_type": "code",
   "execution_count": 12,
   "metadata": {
    "collapsed": false
   },
   "outputs": [
    {
     "name": "stdout",
     "output_type": "stream",
     "text": [
      "Arte, 46\n",
      "Italia, 40\n",
      "Politica, 38\n",
      "Aziende, 37\n",
      "Cultura, 26\n",
      "Economia, 25\n",
      "Letteratura, 25\n",
      "Psicanalisi, 24\n",
      "Letteratura italiana, 24\n",
      "Architettura, 22\n",
      "Diritto, 21\n",
      "Donne, 21\n",
      "Diritto civile, 19\n",
      "Educazione, 19\n",
      "Bambini, 18\n",
      "Sviluppo economico, 18\n",
      "Diritto commerciale, 17\n",
      "Lingua italiana, 17\n",
      "Guerra mondiale 1914-1918, 16\n",
      "Ebrei, 15\n",
      "Città, 14\n",
      "Pittura, 14\n",
      "Immigrati, 13\n",
      "Società, 13\n",
      "Filosofia, 12\n",
      "Famiglie, 11\n",
      "Psicoterapia, 11\n",
      "Arte italiana, 11\n",
      "Paesaggio, 11\n",
      "Condizioni socioeconomiche, 10\n"
     ]
    }
   ],
   "source": [
    "count(subject, 30)"
   ]
  }
 ],
 "metadata": {
  "kernelspec": {
   "display_name": "Python 3",
   "language": "python",
   "name": "python3"
  },
  "language_info": {
   "codemirror_mode": {
    "name": "ipython",
    "version": 3
   },
   "file_extension": ".py",
   "mimetype": "text/x-python",
   "name": "python",
   "nbconvert_exporter": "python",
   "pygments_lexer": "ipython3",
   "version": "3.5.1"
  }
 },
 "nbformat": 4,
 "nbformat_minor": 1
}
